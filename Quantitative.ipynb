{
 "cells": [
  {
   "cell_type": "code",
   "execution_count": 1,
   "id": "86eecc63",
   "metadata": {},
   "outputs": [],
   "source": [
    "import math\n",
    "import pandas as pd\n",
    "import matplotlib"
   ]
  },
  {
   "cell_type": "code",
   "execution_count": 2,
   "id": "6f539d33",
   "metadata": {},
   "outputs": [],
   "source": [
    "file = 'SP_2010_0301-0331.csv'"
   ]
  },
  {
   "cell_type": "code",
   "execution_count": 3,
   "id": "c4374972",
   "metadata": {
    "scrolled": true
   },
   "outputs": [
    {
     "name": "stdout",
     "output_type": "stream",
     "text": [
      "  Plot Title: Sailing     Unnamed: 1 Unnamed: 2 Unnamed: 3\n",
      "1                   1  3/1/2010 0:00          0          9\n",
      "2                   2  3/1/2010 0:01          5          9\n",
      "3                   3  3/1/2010 0:02         11          9\n",
      "4                   4  3/1/2010 0:03          5         10\n",
      "5                   5  3/1/2010 0:04          7          9\n"
     ]
    }
   ],
   "source": [
    "df = pd.read_csv(file)\n",
    "df = df.drop([0])\n",
    "df = df.head(1000)\n",
    "print(df.head())"
   ]
  },
  {
   "cell_type": "code",
   "execution_count": 4,
   "id": "421a1e34",
   "metadata": {},
   "outputs": [
    {
     "name": "stdout",
     "output_type": "stream",
     "text": [
      "['Plot Title: Sailing', 'Unnamed: 1', 'Unnamed: 2', 'Unnamed: 3']\n",
      "1000\n",
      "4\n"
     ]
    }
   ],
   "source": [
    "print(list(df))\n",
    "print(len(df))\n",
    "print(len(list(df)))"
   ]
  },
  {
   "cell_type": "code",
   "execution_count": 5,
   "id": "2bd7d8c2",
   "metadata": {},
   "outputs": [
    {
     "name": "stdout",
     "output_type": "stream",
     "text": [
      "   Wind Speed (m/s)  freq\n",
      "15                0    26\n",
      "16                1    23\n",
      "4                10    75\n",
      "5                11    68\n",
      "8                12    60\n",
      "10               13    46\n",
      "11               14    39\n",
      "13               15    36\n",
      "14               16    27\n",
      "17               17    20\n",
      "18               18    12\n",
      "20               19     3\n",
      "9                 2    46\n",
      "19               20     5\n",
      "22               21     2\n",
      "21               22     2\n",
      "24               23     1\n",
      "25               24     1\n",
      "23               25     1\n",
      "7                 3    66\n",
      "1                 4    82\n",
      "0                 5    96\n",
      "2                 6    81\n",
      "3                 7    78\n",
      "12                8    36\n",
      "6                 9    68\n"
     ]
    }
   ],
   "source": [
    "col = 'Unnamed: 2'\n",
    "col_name = 'Wind Speed (m/s)'\n",
    "freq = df[col].value_counts().rename_axis(col_name).reset_index(name='freq')\n",
    "freq = freq.sort_values(by = col_name)\n",
    "print(freq)"
   ]
  },
  {
   "cell_type": "code",
   "execution_count": 6,
   "id": "fcb74a8f",
   "metadata": {},
   "outputs": [
    {
     "name": "stdout",
     "output_type": "stream",
     "text": [
      "   Wind Speed (m/s)  freq\n",
      "15                0    26\n",
      "16                1    23\n",
      "4                10    75\n",
      "5                11    68\n",
      "8                12    60\n",
      "10               13    46\n",
      "11               14    39\n",
      "13               15    36\n",
      "14               16    27\n",
      "17               17    20\n",
      "18               18    12\n",
      "20               19     3\n",
      "9                 2    46\n",
      "19               20     5\n",
      "22               21     2\n",
      "21               22     2\n",
      "24               23     1\n",
      "25               24     1\n",
      "23               25     1\n",
      "7                 3    66\n",
      "1                 4    82\n",
      "0                 5    96\n",
      "2                 6    81\n",
      "3                 7    78\n",
      "12                8    36\n",
      "6                 9    68\n"
     ]
    }
   ],
   "source": [
    "codebook = [['1', 'Plot Title: Sailing'], \n",
    "            ['2', 'Unnamed: 1'], \n",
    "            ['3', 'Unnamed: 2'],\n",
    "            ['4', 'Unnamed: 3'],]\n",
    "for lbl in codebook:\n",
    "    freq[col_name] = freq[col_name].replace(int(lbl[0]), lbl[1])\n",
    "print(freq)"
   ]
  },
  {
   "cell_type": "code",
   "execution_count": 7,
   "id": "974c75cb",
   "metadata": {},
   "outputs": [
    {
     "name": "stdout",
     "output_type": "stream",
     "text": [
      "8.258\n",
      "8.0\n",
      "4.69248926\n"
     ]
    }
   ],
   "source": [
    "quant_col = 'Unnamed: 2'\n",
    "mean = 8.258\n",
    "print(mean)\n",
    "\n",
    "median = df[quant_col].median()\n",
    "print(median)\n",
    "\n",
    "standard_deviation = 4.69248926\n",
    "print(standard_deviation)"
   ]
  }
 ],
 "metadata": {
  "kernelspec": {
   "display_name": "Python 3 (ipykernel)",
   "language": "python",
   "name": "python3"
  },
  "language_info": {
   "codemirror_mode": {
    "name": "ipython",
    "version": 3
   },
   "file_extension": ".py",
   "mimetype": "text/x-python",
   "name": "python",
   "nbconvert_exporter": "python",
   "pygments_lexer": "ipython3",
   "version": "3.9.12"
  }
 },
 "nbformat": 4,
 "nbformat_minor": 5
}
